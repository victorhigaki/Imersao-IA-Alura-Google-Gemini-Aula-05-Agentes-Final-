{
  "nbformat": 4,
  "nbformat_minor": 0,
  "metadata": {
    "colab": {
      "provenance": [],
      "include_colab_link": true
    },
    "kernelspec": {
      "name": "python3",
      "display_name": "Python 3"
    },
    "language_info": {
      "name": "python"
    }
  },
  "cells": [
    {
      "cell_type": "markdown",
      "metadata": {
        "id": "view-in-github",
        "colab_type": "text"
      },
      "source": [
        "<a href=\"https://colab.research.google.com/github/victorhigaki/Imersao-IA-Alura-Google-Gemini-Aula-05-Agentes-Final-/blob/main/Imers%C3%A3o_IA_Alura_%2B_Google_Gemini_Aula_05_Agentes_(Final).ipynb\" target=\"_parent\"><img src=\"https://colab.research.google.com/assets/colab-badge.svg\" alt=\"Open In Colab\"/></a>"
      ]
    },
    {
      "cell_type": "code",
      "source": [
        "%pip -q install google-genai"
      ],
      "metadata": {
        "id": "UCCbECexLk_h"
      },
      "execution_count": null,
      "outputs": []
    },
    {
      "cell_type": "code",
      "source": [
        "# Configura a API Key do Google Gemini\n",
        "\n",
        "import os\n",
        "from google.colab import userdata\n",
        "\n",
        "os.environ[\"GOOGLE_API_KEY\"] = userdata.get('GOOGLE_API_KEY')"
      ],
      "metadata": {
        "id": "NfCqHo1tLk8P"
      },
      "execution_count": null,
      "outputs": []
    },
    {
      "cell_type": "code",
      "source": [
        "# Configura o cliente da SDK do Gemini\n",
        "\n",
        "from google import genai\n",
        "\n",
        "client = genai.Client()\n",
        "\n",
        "MODEL_ID = \"gemini-2.0-flash\""
      ],
      "metadata": {
        "id": "bV4w0H5TLk5g"
      },
      "execution_count": null,
      "outputs": []
    },
    {
      "cell_type": "code",
      "source": [
        "# Pergunta ao Gemini uma informação mais recente que seu conhecimento\n",
        "\n",
        "from IPython.display import HTML, Markdown\n",
        "\n",
        "# Perguntar pro modelo quando é a próxima imersão de IA ###############################################\n",
        "resposta = client.models.generate_content(\n",
        "    model=MODEL_ID,\n",
        "    contents='Quando é a próxima Imersão IA com Google Gemini da Alura?',\n",
        ")\n",
        "\n",
        "# Exibe a resposta na tela\n",
        "display(Markdown(f\"Resposta:\\n {response.text}\"))"
      ],
      "metadata": {
        "colab": {
          "base_uri": "https://localhost:8080/",
          "height": 128
        },
        "id": "Y9cBAz02xZt9",
        "outputId": "a05de9be-89d2-4b2b-a4b7-26d1337aea4d"
      },
      "execution_count": null,
      "outputs": [
        {
          "output_type": "display_data",
          "data": {
            "text/plain": [
              "<IPython.core.display.Markdown object>"
            ],
            "text/markdown": "Response:\n A Alura não tem uma data fixa para a Imersão IA com Google Gemini. Para saber quando será a próxima edição, o ideal é:\n\n*   **Acompanhar as redes sociais da Alura:** Instagram, LinkedIn, Twitter e Facebook são ótimos lugares para ficar por dentro dos anúncios.\n*   **Verificar a página de cursos de Inteligência Artificial da Alura:** Lá eles costumam divulgar os próximos eventos e formações.\n*   **Assinar a newsletter da Alura:** Assim, você recebe as novidades diretamente no seu e-mail.\n\nDessa forma, você não perde a próxima oportunidade!"
          },
          "metadata": {}
        }
      ]
    },
    {
      "cell_type": "code",
      "source": [
        "# Pergunta ao Gemini uma informação utilizando a busca do Google como contexto\n",
        "\n",
        "response = client.models.generate_content(\n",
        "    model=MODEL_ID,\n",
        "    contents='Quando é a próxima Imersão IA com Google Gemini da Alura?',\n",
        "    config={\"tools\": [{\"google_search\": {}}]}\n",
        ")\n",
        "\n",
        "# Exibe a resposta na tela\n",
        "display(Markdown(f\"Resposta:\\n {response.text}\"))"
      ],
      "metadata": {
        "colab": {
          "base_uri": "https://localhost:8080/",
          "height": 46
        },
        "id": "lc2JPA92xbnp",
        "outputId": "1f2ba382-7715-4bc2-cfb8-89d974127952"
      },
      "execution_count": null,
      "outputs": [
        {
          "output_type": "display_data",
          "data": {
            "text/plain": [
              "<IPython.core.display.Markdown object>"
            ],
            "text/markdown": "Response:\n A próxima Imersão IA com Google Gemini da Alura acontecerá de 12 a 16 de maio de 2025. As inscrições estão abertas até o dia 11 de maio de 2025."
          },
          "metadata": {}
        }
      ]
    },
    {
      "cell_type": "code",
      "source": [
        "# Exibe a busca\n",
        "print(f\"Busca realizada: {response.candidates[0].grounding_metadata.web_search_queries}\")\n",
        "# Exibe as URLs nas quais ele se baseou\n",
        "print(f\"Páginas utilizadas na resposta: {', '.join([site.web.title for site in response.candidates[0].grounding_metadata.grounding_chunks])}\")\n",
        "print()\n",
        "display(HTML(response.candidates[0].grounding_metadata.search_entry_point.rendered_content))"
      ],
      "metadata": {
        "colab": {
          "base_uri": "https://localhost:8080/",
          "height": 116
        },
        "id": "6Cg0KNJGMgC5",
        "outputId": "fd466980-91fc-4891-88d7-5f62257c3e5a"
      },
      "execution_count": null,
      "outputs": [
        {
          "output_type": "stream",
          "name": "stdout",
          "text": [
            "Busca realizada: ['Alura Imersão IA Google Gemini', 'próxima imersão IA com Google Gemini Alura']\n",
            "Páginas utilizadas na resposta: alura.com.br, youtube.com\n",
            "\n"
          ]
        },
        {
          "output_type": "display_data",
          "data": {
            "text/plain": [
              "<IPython.core.display.HTML object>"
            ],
            "text/html": [
              "<style>\n",
              ".container {\n",
              "  align-items: center;\n",
              "  border-radius: 8px;\n",
              "  display: flex;\n",
              "  font-family: Google Sans, Roboto, sans-serif;\n",
              "  font-size: 14px;\n",
              "  line-height: 20px;\n",
              "  padding: 8px 12px;\n",
              "}\n",
              ".chip {\n",
              "  display: inline-block;\n",
              "  border: solid 1px;\n",
              "  border-radius: 16px;\n",
              "  min-width: 14px;\n",
              "  padding: 5px 16px;\n",
              "  text-align: center;\n",
              "  user-select: none;\n",
              "  margin: 0 8px;\n",
              "  -webkit-tap-highlight-color: transparent;\n",
              "}\n",
              ".carousel {\n",
              "  overflow: auto;\n",
              "  scrollbar-width: none;\n",
              "  white-space: nowrap;\n",
              "  margin-right: -12px;\n",
              "}\n",
              ".headline {\n",
              "  display: flex;\n",
              "  margin-right: 4px;\n",
              "}\n",
              ".gradient-container {\n",
              "  position: relative;\n",
              "}\n",
              ".gradient {\n",
              "  position: absolute;\n",
              "  transform: translate(3px, -9px);\n",
              "  height: 36px;\n",
              "  width: 9px;\n",
              "}\n",
              "@media (prefers-color-scheme: light) {\n",
              "  .container {\n",
              "    background-color: #fafafa;\n",
              "    box-shadow: 0 0 0 1px #0000000f;\n",
              "  }\n",
              "  .headline-label {\n",
              "    color: #1f1f1f;\n",
              "  }\n",
              "  .chip {\n",
              "    background-color: #ffffff;\n",
              "    border-color: #d2d2d2;\n",
              "    color: #5e5e5e;\n",
              "    text-decoration: none;\n",
              "  }\n",
              "  .chip:hover {\n",
              "    background-color: #f2f2f2;\n",
              "  }\n",
              "  .chip:focus {\n",
              "    background-color: #f2f2f2;\n",
              "  }\n",
              "  .chip:active {\n",
              "    background-color: #d8d8d8;\n",
              "    border-color: #b6b6b6;\n",
              "  }\n",
              "  .logo-dark {\n",
              "    display: none;\n",
              "  }\n",
              "  .gradient {\n",
              "    background: linear-gradient(90deg, #fafafa 15%, #fafafa00 100%);\n",
              "  }\n",
              "}\n",
              "@media (prefers-color-scheme: dark) {\n",
              "  .container {\n",
              "    background-color: #1f1f1f;\n",
              "    box-shadow: 0 0 0 1px #ffffff26;\n",
              "  }\n",
              "  .headline-label {\n",
              "    color: #fff;\n",
              "  }\n",
              "  .chip {\n",
              "    background-color: #2c2c2c;\n",
              "    border-color: #3c4043;\n",
              "    color: #fff;\n",
              "    text-decoration: none;\n",
              "  }\n",
              "  .chip:hover {\n",
              "    background-color: #353536;\n",
              "  }\n",
              "  .chip:focus {\n",
              "    background-color: #353536;\n",
              "  }\n",
              "  .chip:active {\n",
              "    background-color: #464849;\n",
              "    border-color: #53575b;\n",
              "  }\n",
              "  .logo-light {\n",
              "    display: none;\n",
              "  }\n",
              "  .gradient {\n",
              "    background: linear-gradient(90deg, #1f1f1f 15%, #1f1f1f00 100%);\n",
              "  }\n",
              "}\n",
              "</style>\n",
              "<div class=\"container\">\n",
              "  <div class=\"headline\">\n",
              "    <svg class=\"logo-light\" width=\"18\" height=\"18\" viewBox=\"9 9 35 35\" fill=\"none\" xmlns=\"http://www.w3.org/2000/svg\">\n",
              "      <path fill-rule=\"evenodd\" clip-rule=\"evenodd\" d=\"M42.8622 27.0064C42.8622 25.7839 42.7525 24.6084 42.5487 23.4799H26.3109V30.1568H35.5897C35.1821 32.3041 33.9596 34.1222 32.1258 35.3448V39.6864H37.7213C40.9814 36.677 42.8622 32.2571 42.8622 27.0064V27.0064Z\" fill=\"#4285F4\"/>\n",
              "      <path fill-rule=\"evenodd\" clip-rule=\"evenodd\" d=\"M26.3109 43.8555C30.9659 43.8555 34.8687 42.3195 37.7213 39.6863L32.1258 35.3447C30.5898 36.3792 28.6306 37.0061 26.3109 37.0061C21.8282 37.0061 18.0195 33.9811 16.6559 29.906H10.9194V34.3573C13.7563 39.9841 19.5712 43.8555 26.3109 43.8555V43.8555Z\" fill=\"#34A853\"/>\n",
              "      <path fill-rule=\"evenodd\" clip-rule=\"evenodd\" d=\"M16.6559 29.8904C16.3111 28.8559 16.1074 27.7588 16.1074 26.6146C16.1074 25.4704 16.3111 24.3733 16.6559 23.3388V18.8875H10.9194C9.74388 21.2072 9.06992 23.8247 9.06992 26.6146C9.06992 29.4045 9.74388 32.022 10.9194 34.3417L15.3864 30.8621L16.6559 29.8904V29.8904Z\" fill=\"#FBBC05\"/>\n",
              "      <path fill-rule=\"evenodd\" clip-rule=\"evenodd\" d=\"M26.3109 16.2386C28.85 16.2386 31.107 17.1164 32.9095 18.8091L37.8466 13.8719C34.853 11.082 30.9659 9.3736 26.3109 9.3736C19.5712 9.3736 13.7563 13.245 10.9194 18.8875L16.6559 23.3388C18.0195 19.2636 21.8282 16.2386 26.3109 16.2386V16.2386Z\" fill=\"#EA4335\"/>\n",
              "    </svg>\n",
              "    <svg class=\"logo-dark\" width=\"18\" height=\"18\" viewBox=\"0 0 48 48\" xmlns=\"http://www.w3.org/2000/svg\">\n",
              "      <circle cx=\"24\" cy=\"23\" fill=\"#FFF\" r=\"22\"/>\n",
              "      <path d=\"M33.76 34.26c2.75-2.56 4.49-6.37 4.49-11.26 0-.89-.08-1.84-.29-3H24.01v5.99h8.03c-.4 2.02-1.5 3.56-3.07 4.56v.75l3.91 2.97h.88z\" fill=\"#4285F4\"/>\n",
              "      <path d=\"M15.58 25.77A8.845 8.845 0 0 0 24 31.86c1.92 0 3.62-.46 4.97-1.31l4.79 3.71C31.14 36.7 27.65 38 24 38c-5.93 0-11.01-3.4-13.45-8.36l.17-1.01 4.06-2.85h.8z\" fill=\"#34A853\"/>\n",
              "      <path d=\"M15.59 20.21a8.864 8.864 0 0 0 0 5.58l-5.03 3.86c-.98-2-1.53-4.25-1.53-6.64 0-2.39.55-4.64 1.53-6.64l1-.22 3.81 2.98.22 1.08z\" fill=\"#FBBC05\"/>\n",
              "      <path d=\"M24 14.14c2.11 0 4.02.75 5.52 1.98l4.36-4.36C31.22 9.43 27.81 8 24 8c-5.93 0-11.01 3.4-13.45 8.36l5.03 3.85A8.86 8.86 0 0 1 24 14.14z\" fill=\"#EA4335\"/>\n",
              "    </svg>\n",
              "    <div class=\"gradient-container\"><div class=\"gradient\"></div></div>\n",
              "  </div>\n",
              "  <div class=\"carousel\">\n",
              "    <a class=\"chip\" href=\"https://vertexaisearch.cloud.google.com/grounding-api-redirect/AWQVqALZ3mp6YrNAWssw-kcIgOiqwDo2BGh3M60ggePPkEuO8tT8DtqXSfJ5HvJ28XZVRcM0-2D5RnSvbbSfp42yX8AGcPe9fDWP5A5acQSIWfr1Pr2fpwV_I1_IqlxaIQBwh8TzFSiF3oCmO6KtgDDQaS4qixxx7v90EcA5YnCxXsuGMwQ1UuT3leKDSFqVYLdSClIPfv2dc6ocZT1Cn9yylCXRskWKCq8o29-4uykCFP9t4o0-Mn01u4yP\">próxima imersão IA com Google Gemini Alura</a>\n",
              "    <a class=\"chip\" href=\"https://vertexaisearch.cloud.google.com/grounding-api-redirect/AWQVqAJ5EQNtsUrFLgxdb2qJn7ytolKX2iLzgVA8HgOBc9MS9sCEBzF4nBZNnG6fN-guhJJLuRAAuWjA05M6BhMTpPQC9DIGGY8-EMacMgaTKBuC9NRtk0EcoKeM5FuRaNV8_LMlHj0QI2C4_ZzECM2cL_m9-I-XL9_dub--svs8iBIsbvhP3Uq4WXHkNm9D2M035QqRDF00Ixm-f9n1igibMH9ZyUU3SB3N\">Alura Imersão IA Google Gemini</a>\n",
              "  </div>\n",
              "</div>\n"
            ]
          },
          "metadata": {}
        }
      ]
    },
    {
      "cell_type": "code",
      "source": [
        "# Instalar Framework de agentes do Google ################################################\n",
        "!pip install -q google-adk"
      ],
      "metadata": {
        "colab": {
          "base_uri": "https://localhost:8080/"
        },
        "id": "a1eRPalxEnj7",
        "outputId": "a4aeb42e-8b80-4733-dc22-31627d287843"
      },
      "execution_count": null,
      "outputs": [
        {
          "output_type": "stream",
          "name": "stdout",
          "text": [
            "\u001b[?25l   \u001b[90m━━━━━━━━━━━━━━━━━━━━━━━━━━━━━━━━━━━━━━━━\u001b[0m \u001b[32m0.0/1.2 MB\u001b[0m \u001b[31m?\u001b[0m eta \u001b[36m-:--:--\u001b[0m\r\u001b[2K   \u001b[91m━━━━━━━━━━━━━━━━━━━\u001b[0m\u001b[90m╺\u001b[0m\u001b[90m━━━━━━━━━━━━━━━━━━━━\u001b[0m \u001b[32m0.6/1.2 MB\u001b[0m \u001b[31m17.1 MB/s\u001b[0m eta \u001b[36m0:00:01\u001b[0m\r\u001b[2K   \u001b[90m━━━━━━━━━━━━━━━━━━━━━━━━━━━━━━━━━━━━━━━━\u001b[0m \u001b[32m1.2/1.2 MB\u001b[0m \u001b[31m18.6 MB/s\u001b[0m eta \u001b[36m0:00:00\u001b[0m\n",
            "\u001b[2K   \u001b[90m━━━━━━━━━━━━━━━━━━━━━━━━━━━━━━━━━━━━━━━━\u001b[0m \u001b[32m232.1/232.1 kB\u001b[0m \u001b[31m15.3 MB/s\u001b[0m eta \u001b[36m0:00:00\u001b[0m\n",
            "\u001b[2K   \u001b[90m━━━━━━━━━━━━━━━━━━━━━━━━━━━━━━━━━━━━━━━━\u001b[0m \u001b[32m95.2/95.2 kB\u001b[0m \u001b[31m7.7 MB/s\u001b[0m eta \u001b[36m0:00:00\u001b[0m\n",
            "\u001b[2K   \u001b[90m━━━━━━━━━━━━━━━━━━━━━━━━━━━━━━━━━━━━━━━━\u001b[0m \u001b[32m217.1/217.1 kB\u001b[0m \u001b[31m13.6 MB/s\u001b[0m eta \u001b[36m0:00:00\u001b[0m\n",
            "\u001b[2K   \u001b[90m━━━━━━━━━━━━━━━━━━━━━━━━━━━━━━━━━━━━━━━━\u001b[0m \u001b[32m334.1/334.1 kB\u001b[0m \u001b[31m16.5 MB/s\u001b[0m eta \u001b[36m0:00:00\u001b[0m\n",
            "\u001b[2K   \u001b[90m━━━━━━━━━━━━━━━━━━━━━━━━━━━━━━━━━━━━━━━━\u001b[0m \u001b[32m76.1/76.1 kB\u001b[0m \u001b[31m5.9 MB/s\u001b[0m eta \u001b[36m0:00:00\u001b[0m\n",
            "\u001b[2K   \u001b[90m━━━━━━━━━━━━━━━━━━━━━━━━━━━━━━━━━━━━━━━━\u001b[0m \u001b[32m62.5/62.5 kB\u001b[0m \u001b[31m4.6 MB/s\u001b[0m eta \u001b[36m0:00:00\u001b[0m\n",
            "\u001b[2K   \u001b[90m━━━━━━━━━━━━━━━━━━━━━━━━━━━━━━━━━━━━━━━━\u001b[0m \u001b[32m103.3/103.3 kB\u001b[0m \u001b[31m6.1 MB/s\u001b[0m eta \u001b[36m0:00:00\u001b[0m\n",
            "\u001b[2K   \u001b[90m━━━━━━━━━━━━━━━━━━━━━━━━━━━━━━━━━━━━━━━━\u001b[0m \u001b[32m44.4/44.4 kB\u001b[0m \u001b[31m3.1 MB/s\u001b[0m eta \u001b[36m0:00:00\u001b[0m\n",
            "\u001b[2K   \u001b[90m━━━━━━━━━━━━━━━━━━━━━━━━━━━━━━━━━━━━━━━━\u001b[0m \u001b[32m72.0/72.0 kB\u001b[0m \u001b[31m5.3 MB/s\u001b[0m eta \u001b[36m0:00:00\u001b[0m\n",
            "\u001b[?25h"
          ]
        }
      ]
    },
    {
      "cell_type": "code",
      "execution_count": null,
      "metadata": {
        "id": "aePV2bdfDeoW"
      },
      "outputs": [],
      "source": [
        "from google.adk.agents import Agent\n",
        "from google.adk.runners import Runner\n",
        "from google.adk.sessions import InMemorySessionService\n",
        "from google.adk.tools import google_search\n",
        "from google.genai import types  # Para criar conteúdos (Content e Part)\n",
        "from datetime import date\n",
        "import textwrap # Para formatar melhor a saída de texto\n",
        "from IPython.display import display, Markdown # Para exibir texto formatado no Colab\n",
        "import requests # Para fazer requisições HTTP\n",
        "import warnings\n",
        "\n",
        "warnings.filterwarnings(\"ignore\")"
      ]
    },
    {
      "cell_type": "code",
      "source": [
        "# Função auxiliar que envia uma mensagem para um agente via Runner e retorna a resposta final\n",
        "def call_agent(agent: Agent, message_text: str) -> str:\n",
        "    # Cria um serviço de sessão em memória\n",
        "    session_service = InMemorySessionService()\n",
        "    # Cria uma nova sessão (você pode personalizar os IDs conforme necessário)\n",
        "    session = session_service.create_session(app_name=agent.name, user_id=\"user1\", session_id=\"session1\")\n",
        "    # Cria um Runner para o agente\n",
        "    runner = Runner(agent=agent, app_name=agent.name, session_service=session_service)\n",
        "    # Cria o conteúdo da mensagem de entrada\n",
        "    content = types.Content(role=\"user\", parts=[types.Part(text=message_text)])\n",
        "\n",
        "    final_response = \"\"\n",
        "    # Itera assincronamente pelos eventos retornados durante a execução do agente\n",
        "    for event in runner.run(user_id=\"user1\", session_id=\"session1\", new_message=content):\n",
        "        if event.is_final_response():\n",
        "          for part in event.content.parts:\n",
        "            if part.text is not None:\n",
        "              final_response += part.text\n",
        "              final_response += \"\\n\"\n",
        "    return final_response"
      ],
      "metadata": {
        "id": "_xP4lWhsS5ko"
      },
      "execution_count": null,
      "outputs": []
    },
    {
      "cell_type": "code",
      "source": [
        "# Função auxiliar para exibir texto formatado em Markdown no Colab\n",
        "def to_markdown(text):\n",
        "  text = text.replace('•', '  *')\n",
        "  return Markdown(textwrap.indent(text, '> ', predicate=lambda _: True))"
      ],
      "metadata": {
        "id": "8dosiodaxfFR"
      },
      "execution_count": null,
      "outputs": []
    },
    {
      "cell_type": "code",
      "source": [
        "##########################################\n",
        "# --- Agente 1: Buscador de Notícias --- #\n",
        "##########################################\n",
        "def agente_buscador(topico, data_de_hoje):\n",
        "\n",
        "    buscador = Agent(\n",
        "        name=\"agente_buscador\",\n",
        "        model=\"gemini-2.0-flash\",\n",
        "        instruction=\"\"\"\n",
        "        Você é um assistente de pesquisa. A sua tarefa é usar a ferramenta de busca do google (google_search)\n",
        "        para recuperar as últimas notícias de lançamentos muito relevantes sobre o tópico abaixo.\n",
        "        Foque em no máximo 5 lançamentos relevantes, com base na quantidade e entusiasmo das notícias sobre ele.\n",
        "        Se um tema tiver poucas notícias ou reações entusiasmadas, é possível que ele não seja tão relevante assim\n",
        "        e pode ser substituído por outro que tenha mais.\n",
        "        Esses lançamentos relevantes devem ser atuais, de no máximo um mês antes da data de hoje.\n",
        "        \"\"\",\n",
        "        description=\"Agente que busca informações no Google\",\n",
        "        tools=[google_search]\n",
        "    )\n",
        "\n",
        "    entrada_do_agente_buscador = f\"Tópico: {topico}\\nData de hoje: {data_de_hoje}\"\n",
        "\n",
        "    lancamentos = call_agent(buscador, entrada_do_agente_buscador)\n",
        "    return lancamentos"
      ],
      "metadata": {
        "id": "o8bqIfi_DyH8"
      },
      "execution_count": null,
      "outputs": []
    },
    {
      "cell_type": "code",
      "source": [
        "################################################\n",
        "# --- Agente 2: Planejador de posts --- #\n",
        "################################################\n",
        "def agente_planejador(topico, lancamentos_buscados):\n",
        "    planejador = Agent(\n",
        "        name=\"agente_planejador\",\n",
        "        model=\"gemini-2.0-flash\",\n",
        "        # Inserir as instruções do Agente Planejador #################################################\n",
        "        instruction=\"\"\"\n",
        "        Você é um planejador de conteúdo, especialista em redes sociais. Com base na lista de\n",
        "        lançamentos mais recentes e relevantes buscador, você deve:\n",
        "        usar a ferramenta de busca do Google (google_search) para criar um plano sobre\n",
        "        quais são os pontos mais relevantes que poderíamos abordar em um post sobre\n",
        "        cada um deles. Você também pode usar o (google_search) para encontrar mais\n",
        "        informações sobre os temas e aprofundar.\n",
        "        Ao final, você irá escolher o tema mais relevante entre eles com base nas suas pesquisas\n",
        "        e retornar esse tema, seus pontos mais relevantes, e um plano com os assuntos\n",
        "        a serem abordados no post que será escrito posteriormente.\n",
        "        \"\"\",\n",
        "        description=\"Agente que planeja posts\",\n",
        "        tools=[google_search]\n",
        "    )\n",
        "\n",
        "    entrada_do_agente_planejador = f\"Tópico:{topico}\\nLançamentos buscados: {lancamentos_buscados}\"\n",
        "    # Executa o agente\n",
        "    plano_do_post = call_agent(planejador, entrada_do_agente_planejador)\n",
        "    return plano_do_post"
      ],
      "metadata": {
        "id": "y3VO1uo5_ghO"
      },
      "execution_count": null,
      "outputs": []
    },
    {
      "cell_type": "code",
      "source": [
        "######################################\n",
        "# --- Agente 3: Redator do Post --- #\n",
        "######################################\n",
        "def agente_redator(topico, plano_de_post):\n",
        "    redator = Agent(\n",
        "        name=\"agente_redator\",\n",
        "        model=\"gemini-2.5-pro-preview-03-25\",\n",
        "        instruction=\"\"\"\n",
        "            Você é um Redator Criativo especializado em criar posts virais para redes sociais.\n",
        "            Você escreve posts para a empresa Alura, a maior escola online de tecnologia do Brasil.\n",
        "            Utilize o tema fornecido no plano de post e os pontos mais relevantes fornecidos e, com base nisso,\n",
        "            escreva um rascunho de post para Instagram sobre o tema indicado.\n",
        "            O post deve ser engajador, informativo, com linguagem simples e incluir 2 a 4 hashtags no final.\n",
        "            \"\"\",\n",
        "        description=\"Agente redator de posts engajadores para Instagram\"\n",
        "    )\n",
        "    entrada_do_agente_redator = f\"Tópico: {topico}\\nPlano de post: {plano_de_post}\"\n",
        "    # Executa o agente\n",
        "    rascunho = call_agent(redator, entrada_do_agente_redator)\n",
        "    return rascunho"
      ],
      "metadata": {
        "id": "uOqlg2TRLVh1"
      },
      "execution_count": null,
      "outputs": []
    },
    {
      "cell_type": "code",
      "source": [
        "##########################################\n",
        "# --- Agente 4: Revisor de Qualidade --- #\n",
        "##########################################\n",
        "def agente_revisor(topico, rascunho_gerado):\n",
        "    revisor = Agent(\n",
        "        name=\"agente_revisor\",\n",
        "        model=\"gemini-2.5-pro-preview-03-25\",\n",
        "        instruction=\"\"\"\n",
        "            Você é um Editor e Revisor de Conteúdo meticuloso, especializado em posts para redes sociais, com foco no Instagram.\n",
        "            Por ter um público jovem, entre 18 e 30 anos, use um tom de escrita adequado.\n",
        "            Revise o rascunho de post de Instagram abaixo sobre o tópico indicado, verificando clareza, concisão, correção e tom.\n",
        "            Se o rascunho estiver bom, responda apenas 'O rascunho está ótimo e pronto para publicar!'.\n",
        "            Caso haja problemas, aponte-os e sugira melhorias.\n",
        "            \"\"\",\n",
        "        description=\"Agente revisor de post para redes sociais.\"\n",
        "    )\n",
        "    entrada_do_agente_revisor = f\"Tópico: {topico}\\nRascunho: {rascunho_gerado}\"\n",
        "    # Executa o agente\n",
        "    texto_revisado = call_agent(revisor, entrada_do_agente_revisor)\n",
        "    return texto_revisado"
      ],
      "metadata": {
        "id": "_aTb1SdkLeT6"
      },
      "execution_count": null,
      "outputs": []
    },
    {
      "cell_type": "code",
      "source": [
        "data_de_hoje = date.today().strftime(\"%d/%m/%Y\")\n",
        "\n",
        "print(\"🚀 Iniciando o Sistema de Criação de Posts para Instagram com 4 Agentes 🚀\")\n",
        "\n",
        "# --- Obter o Tópico do Usuário ---\n",
        "topico = input(\"❓ Por favor, digite o TÓPICO sobre o qual você quer criar o post de tendências: \")\n",
        "\n",
        "# Inserir lógica do sistema de agentes ################################################\n",
        "if not topico:\n",
        "    print(\"Você esqueceu de digitar o tópico!\")\n",
        "else:\n",
        "    print(f\"Maravilha! Vamos então criar o post sobre novidades em {topico}\")\n",
        "\n",
        "    lancamentos_buscados = agente_buscador(topico, data_de_hoje)\n",
        "    print(\"\\n--- 📝 Resultado do Agente 1 (Buscador) ---\\n\")\n",
        "    display(to_markdown(lancamentos_buscados))\n",
        "    print(\"--------------------------------------------------------------\")\n",
        "\n",
        "    plano_de_post = agente_planejador(topico, lancamentos_buscados)\n",
        "    print(\"\\n--- 📝 Resultado do Agente 2 (Planejador) ---\\n\")\n",
        "    display(to_markdown(plano_de_post))\n",
        "    print(\"--------------------------------------------------------------\")\n",
        "\n",
        "    rascunho_de_post = agente_redator(topico, plano_de_post)\n",
        "    print(\"\\n--- 📝 Resultado do Agente 3 (Redator) ---\\n\")\n",
        "    display(to_markdown(rascunho_de_post))\n",
        "    print(\"--------------------------------------------------------------\")\n",
        "\n",
        "    post_final = agente_revisor(topico, rascunho_de_post)\n",
        "    print(\"\\n--- 📝 Resultado do Agente 4 (Revisor) ---\\n\")\n",
        "    display(to_markdown(post_final))\n",
        "    print(\"--------------------------------------------------------------\")"
      ],
      "metadata": {
        "colab": {
          "base_uri": "https://localhost:8080/",
          "height": 1000
        },
        "id": "6xzI6LKzxxnN",
        "outputId": "20008a41-d697-43ce-ba06-979c713878ce"
      },
      "execution_count": null,
      "outputs": [
        {
          "output_type": "stream",
          "name": "stdout",
          "text": [
            "🚀 Iniciando o Sistema de Criação de Posts para Instagram com 4 Agentes 🚀\n",
            "❓ Por favor, digite o TÓPICO sobre o qual você quer criar o post de tendências: agentes de IA\n",
            "Maravilha! Vamos então criar o post sobre novidades em agentes de IA\n",
            "\n",
            "--- 📝 Resultado do Agente 1 (Buscador) ---\n",
            "\n"
          ]
        },
        {
          "output_type": "display_data",
          "data": {
            "text/plain": [
              "<IPython.core.display.Markdown object>"
            ],
            "text/markdown": "> Ok, aqui estão minhas buscas para encontrar os lançamentos de agentes de IA mais relevantes e recentes (dentro do último mês):\n> \n> \n> Com base nas notícias e no entusiasmo recente, aqui estão alguns dos lançamentos e tendências mais relevantes em agentes de IA nas últimas semanas:\n> \n> 1.  **Microsoft Copilot:** A Microsoft tem lançado continuamente novos agentes de IA para o Microsoft 365 Copilot e Security Copilot. Esses agentes visam aprimorar a análise de dados, pesquisa e segurança cibernética. Os agentes incluem o Analyst e o Researcher para o Microsoft 365 e agentes específicos para triagem de phishing, triagem de alertas e remediação de vulnerabilidades no Security Copilot.\n> 2.  **Agentes Autônomos:** Há uma tendência crescente em direção a agentes de IA autônomos capazes de realizar tarefas complexas de forma independente. Empresas como Amazon, Google e Apple estão liderando a corrida para desenvolver agentes que podem acessar sistemas internos e dados proprietários, permitindo automação avançada.\n> 3.  **Integração da Baidu com Agentes Digitais:** A Baidu lançou novos modelos de IA, Ernie 4.5 Turno e Ernie X1 Turbo, que podem criar e gerenciar agentes digitais. Esses agentes podem ser usados em aplicativos como atendimento ao cliente, análise de dados e processos automatizados de revisão de informações.\n> 4.  **CrowdStrike Charlotte AI:** A CrowdStrike apresentou inovações de IA no RSAC 2025, incluindo o modelo de agente Charlotte AI, que visa acelerar as investigações e aumentar a eficiência das soluções de segurança.\n> 5.  **Agentes de IA para Automação de Negócios:** Há uma demanda crescente por agentes de IA para automação de negócios, com empresas planejando integrar esses agentes para aumentar a eficiência e liberar funcionários de tarefas repetitivas. O mercado de agentes de IA deve atingir US$ 47,1 bilhões em 2025.\n> \n> Em resumo, o foco parece estar em agentes de IA mais autônomos, capazes de lidar com tarefas complexas e se integrar em vários setores, incluindo segurança cibernética, automação de negócios e atendimento ao cliente. As grandes empresas de tecnologia estão investindo pesadamente no desenvolvimento e lançamento desses agentes.\n"
          },
          "metadata": {}
        },
        {
          "output_type": "stream",
          "name": "stdout",
          "text": [
            "--------------------------------------------------------------\n",
            "\n",
            "--- 📝 Resultado do Agente 2 (Planejador) ---\n",
            "\n"
          ]
        },
        {
          "output_type": "display_data",
          "data": {
            "text/plain": [
              "<IPython.core.display.Markdown object>"
            ],
            "text/markdown": "> Ok, com base nas informações fornecidas, vou criar um plano de conteúdo para um post sobre agentes de IA. Primeiro, farei algumas pesquisas adicionais para aprofundar meu conhecimento sobre os tópicos listados.\n> \n> \n> Com base nas pesquisas, aqui estão os pontos mais relevantes para cada tema e um plano para o post:\n> \n> **1. Microsoft Copilot:**\n> \n> *   **Pontos Relevantes:**\n>     *   Agentes de IA integrados ao Microsoft 365 Copilot e Security Copilot.\n>     *   Aprimoramento da análise de dados, pesquisa e segurança cibernética.\n>     *   Agentes como Analyst e Researcher para o Microsoft 365.\n>     *   Agentes específicos para triagem de phishing, triagem de alertas e remediação de vulnerabilidades no Security Copilot.\n>     *   Criação de agentes personalizados através do Copilot Studio.\n> *   **Plano de Conteúdo:**\n>     *   Explicar o que é o Microsoft Copilot e sua função como assistente de IA.\n>     *   Detalhar os diferentes agentes de IA disponíveis e suas funcionalidades específicas (Analyst, Researcher, etc.).\n>     *   Mostrar como esses agentes podem ser usados para otimizar tarefas diárias no Microsoft 365.\n>     *   Discutir a integração com o Security Copilot e seus benefícios para a segurança cibernética.\n>     *   Abordar a capacidade de criar agentes personalizados com o Copilot Studio e como isso democratiza o uso de IA.\n>     *   Mencionar os desafios e limitações do uso do Copilot, como a necessidade de planos qualificados do Microsoft 365 para empresas.\n> \n> **2. Agentes Autônomos:**\n> \n> *   **Pontos Relevantes:**\n>     *   Capacidade de realizar tarefas complexas de forma independente, sem intervenção humana.\n>     *   Empresas como Amazon, Google e Apple liderando o desenvolvimento.\n>     *   Acesso a sistemas internos e dados proprietários para automação avançada.\n>     *   Potencial para otimizar a colaboração em projetos e automatizar tarefas como criação de atas e acompanhamento de prazos.\n>     *   Necessidade de experiência especializada para implementar agentes avançados de IA.\n> *   **Plano de Conteúdo:**\n>     *   Definir o que são agentes autônomos de IA e como eles se diferenciam de outras formas de automação.\n>     *   Apresentar exemplos de empresas que estão investindo em agentes autônomos (Amazon, Google, Apple).\n>     *   Discutir os benefícios da automação avançada, como a capacidade de acessar sistemas internos e dados proprietários.\n>     *   Explorar casos de uso em diferentes setores, como gerenciamento de calendários, suporte ao cliente e controle de dispositivos domésticos inteligentes.\n>     *   Abordar os desafios técnicos e a necessidade de expertise para implementar esses agentes.\n> \n> **3. Integração da Baidu com Agentes Digitais:**\n> \n> *   **Pontos Relevantes:**\n>     *   Lançamento dos modelos Ernie 4.5 Turno e Ernie X1 Turbo.\n>     *   Capacidade de criar e gerenciar agentes digitais para atendimento ao cliente, análise de dados e revisão de informações.\n>     *   Ampliação da capacidade de memória e otimização do motor de inferência para melhorar o raciocínio e reduzir alucinações.\n>     *   Concorrência com outras empresas chinesas como DeepSeek, Alibaba, Tencent e ByteDance.\n>     *   Regulamentação dos serviços de IA na China para respeitar os valores socialistas.\n> *   **Plano de Conteúdo:**\n>     *   Apresentar os novos modelos Ernie 4.5 Turno e Ernie X1 Turbo e suas principais características.\n>     *   Explicar como esses modelos podem ser usados para criar e gerenciar agentes digitais.\n>     *   Discutir as aplicações desses agentes em atendimento ao cliente, análise de dados e revisão de informações.\n>     *   Abordar a competição no mercado chinês de IA e a importância da inovação contínua.\n>     *   Mencionar a regulamentação dos serviços de IA na China e seus impactos.\n>     *   Explorar o preço de uso dos modelos Ernie.\n> \n> **4. CrowdStrike Charlotte AI:**\n> \n> *   **Pontos Relevantes:**\n>     *   Modelo de agente para acelerar investigações e aumentar a eficiência das soluções de segurança.\n>     *   Uso de IA generativa para permitir consultas em linguagem natural e acelerar a triagem de detecções.\n>     *   Integração com a plataforma CrowdStrike Falcon.\n>     *   Baseado em dados proprietários da CrowdStrike, garantindo detecções precisas.\n> *   **Plano de Conteúdo:**\n>     *   Apresentar o CrowdStrike Charlotte AI e seu objetivo de acelerar investigações de segurança.\n>     *   Explicar como a IA generativa permite consultas em linguagem natural e simplifica a triagem de detecções.\n>     *   Discutir a integração com a plataforma CrowdStrike Falcon e seus benefícios.\n>     *   Abordar a base de dados proprietária da CrowdStrike e como ela garante detecções precisas.\n>     *   Apresentar casos de uso e exemplos de como o Charlotte AI pode ser usado em situações reais.\n> \n> **5. Agentes de IA para Automação de Negócios:**\n> \n> *   **Pontos Relevantes:**\n>     *   Demanda crescente por agentes de IA para automação de negócios.\n>     *   Empresas planejando integrar esses agentes para aumentar a eficiência e liberar funcionários de tarefas repetitivas.\n>     *   Mercado de agentes de IA deve atingir US$ 47,1 bilhões em 2025, podendo crescer para 52,62 bilhões de dólares até 2030.\n>     *   Agentes de IA como Botpress e Relevância AI.\n>     *   Benefícios como automação de tarefas repetitivas, redução de custos operacionais e aumento da produtividade.\n> *   **Plano de Conteúdo:**\n>     *   Discutir a crescente demanda por agentes de IA para automação de negócios.\n>     *   Apresentar estatísticas sobre o crescimento do mercado e as expectativas para o futuro.\n>     *   Explicar como esses agentes podem ser usados para aumentar a eficiência e liberar funcionários de tarefas repetitivas.\n>     *   Apresentar exemplos de agentes de IA para automação de negócios, como Botpress e Relevância AI.\n>     *   Abordar os benefícios da automação, como redução de custos operacionais e aumento da produtividade.\n> \n> **Tema Mais Relevante e Plano Detalhado:**\n> \n> Com base nas pesquisas, o tema mais relevante é **Agentes de IA para Automação de Negócios**. Este tema combina o interesse geral em IA com a aplicabilidade prática e o potencial de mercado.\n> \n> **Título do Post:** Agentes de IA para Automação de Negócios: O Futuro da Eficiência Empresarial\n> \n> **Público-Alvo:** Profissionais de TI, gestores de negócios, tomadores de decisão e qualquer pessoa interessada em otimizar processos e aumentar a eficiência em suas empresas.\n> \n> **Objetivo do Post:** Informar e educar o público sobre o potencial dos agentes de IA para automação de negócios, apresentando exemplos práticos, benefícios e tendências de mercado.\n> \n> **Estrutura do Post:**\n> \n> 1.  **Introdução:**\n>     *   Apresentar o cenário atual da IA e a crescente demanda por automação de negócios.\n>     *   Definir o que são agentes de IA e como eles se diferenciam de outras formas de automação.\n>     *   Destacar a importância dos agentes de IA para aumentar a eficiência e liberar funcionários de tarefas repetitivas.\n>     *   Mencionar a previsão de que o mercado de agentes de IA atingirá US$ 47,1 bilhões em 2025 e pode crescer para 52,62 bilhões de dólares até 2030.\n> \n> 2.  **O que são Agentes de IA para Automação de Negócios?**\n>     *   Explicar detalhadamente o que são agentes de IA e como eles funcionam.\n>     *   Discutir as principais características dos agentes de IA, como autonomia, capacidade de aprendizado e interação com sistemas e pessoas.\n>     *   Apresentar exemplos de tarefas que podem ser automatizadas com agentes de IA, como atendimento ao cliente, análise de dados e atualização de bancos de dados.\n> \n> 3.  **Benefícios da Automação de Negócios com Agentes de IA:**\n>     *   Aumento da eficiência e da produtividade.\n>     *   Redução de custos operacionais.\n>     *   Melhora da tomada de decisões.\n>     *   Liberação de funcionários para tarefas mais estratégicas.\n>     *   Otimização de processos e fluxos de trabalho.\n> \n> 4.  **Exemplos de Agentes de IA para Automação de Negócios:**\n>     *   Apresentar exemplos de agentes de IA disponíveis no mercado, como:\n>         *   Microsoft Copilot\n>         *   Botpress\n>         *   Relevância AI\n>     *   Detalhar as funcionalidades e os casos de uso de cada agente, mostrando como eles podem ser aplicados em diferentes setores e empresas.\n> \n> 5.  **Tendências do Mercado de Agentes de IA:**\n>     *   Crescimento exponencial do mercado e aumento da demanda por automação de negócios.\n>     *   Avanços tecnológicos em IA, como modelos de linguagem ampla (LLMs) e processamento de linguagem natural (PLN).\n>     *   Personalização de agentes de IA para atender às necessidades específicas de cada empresa.\n>     *   Integração de agentes de IA com outras tecnologias, como Internet das Coisas (IoT) e computação em nuvem.\n> \n> 6.  **Desafios e Considerações:**\n>     *   Abordar os desafios da implementação de agentes de IA, como a necessidade de expertise técnica e a preocupação com a segurança dos dados.\n>     *   Discutir as considerações éticas e os impactos sociais da automação de negócios com IA.\n>     *   Apresentar dicas e recomendações para empresas que desejam implementar agentes de IA de forma eficaz.\n> \n> 7.  **Conclusão:**\n>     *   Reafirmar o potencial dos agentes de IA para transformar a automação de negócios e impulsionar a eficiência empresarial.\n>     *   Incentivar o público a explorar as possibilidades da IA e a implementar agentes de IA em suas empresas.\n>     *   Deixar um chamado para ação, convidando o público a compartilhar suas experiências e opiniões sobre o tema.\n> \n> **Assuntos a Serem Abordados no Post:**\n> \n> *   Definição e funcionamento dos agentes de IA.\n> *   Benefícios da automação de negócios com IA.\n> *   Exemplos de agentes de IA disponíveis no mercado (Microsoft Copilot, Botpress, Relevância AI).\n> *   Tendências do mercado de agentes de IA.\n> *   Desafios e considerações éticas.\n> *   Dicas para implementar agentes de IA de forma eficaz.\n> *   Estatísticas sobre o crescimento do mercado e o impacto da automação de negócios com IA.\n> \n> Este plano detalhado fornecerá uma base sólida para a criação de um post informativo e envolvente sobre agentes de IA para automação de negócios.\n> \n"
          },
          "metadata": {}
        },
        {
          "output_type": "stream",
          "name": "stdout",
          "text": [
            "--------------------------------------------------------------\n",
            "\n",
            "--- 📝 Resultado do Agente 3 (Redator) ---\n",
            "\n"
          ]
        },
        {
          "output_type": "display_data",
          "data": {
            "text/plain": [
              "<IPython.core.display.Markdown object>"
            ],
            "text/markdown": "> Okay, aqui está um rascunho de post para o Instagram da Alura sobre Agentes de IA para Automação de Negócios, seguindo o plano fornecido:\n> \n> ---\n> \n> **[Imagem/Vídeo Sugerido: Um gráfico animado mostrando tarefas repetitivas sendo automatizadas por um ícone de IA, liberando pessoas para atividades criativas/estratégicas OU uma representação visual de um agente de IA interagindo com diferentes sistemas de negócios.]**\n> \n> **Texto do Post:**\n> \n> 🤖 Já imaginou sua equipe focada 100% em estratégia, enquanto a IA cuida das tarefas repetitivas? Bem-vindo à era dos Agentes de IA na automação de negócios! 🚀\n> \n> Esses \"assistentes virtuais\" superpoderosos não são mais ficção científica. São sistemas de IA que agem de forma autônoma, aprendem e realizam tarefas como:\n> \n> *   Análise rápida de dados 📊\n> *   Atendimento ao cliente personalizado 💬\n> *   Atualização de bancos de dados 💾\n> *   E muito mais!\n> \n> O resultado? Empresas mais ágeis e eficientes! ✨\n> \n> ✅ **Aumento da produtividade:** Libere seu time para inovar!\n> ✅ **Redução de custos:** Otimize operações e recursos.\n> ✅ **Decisões mais inteligentes:** Baseadas em dados precisos.\n> \n> Plataformas como Microsoft Copilot e outras ferramentas já estão mostrando o potencial desses agentes. E o mercado não para de crescer: a previsão é ultrapassar **US$ 52 bilhões até 2030**! 🤯\n> \n> Claro, implementar essa tecnologia exige conhecimento e estratégia, mas os benefícios são transformadores. O futuro do trabalho está sendo redesenhado AGORA.\n> \n> 🤔 E aí, sua empresa já está explorando o potencial dos agentes de IA? Como você acha que eles podem revolucionar sua área? Conta pra gente nos comentários! 👇\n> \n> Quer estar na vanguarda dessa e de outras tecnologias? A Alura te prepara! 💚\n> \n> #InteligenciaArtificial #Automacao #Tecnologia #FuturoDoTrabalho\n"
          },
          "metadata": {}
        },
        {
          "output_type": "stream",
          "name": "stdout",
          "text": [
            "--------------------------------------------------------------\n",
            "\n",
            "--- 📝 Resultado do Agente 4 (Revisor) ---\n",
            "\n"
          ]
        },
        {
          "output_type": "display_data",
          "data": {
            "text/plain": [
              "<IPython.core.display.Markdown object>"
            ],
            "text/markdown": "> O rascunho está ótimo e pronto para publicar!\n"
          },
          "metadata": {}
        },
        {
          "output_type": "stream",
          "name": "stdout",
          "text": [
            "--------------------------------------------------------------\n"
          ]
        }
      ]
    }
  ]
}